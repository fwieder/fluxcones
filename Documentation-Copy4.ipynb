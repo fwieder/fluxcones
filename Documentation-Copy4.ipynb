{
 "cells": [
  {
   "cell_type": "markdown",
   "id": "special-blood",
   "metadata": {},
   "source": [
    "# How to use the flux_cone class:\n",
    "\n",
    "First we need to import the `flux_cone` class from flux_class:"
   ]
  },
  {
   "cell_type": "code",
   "execution_count": 1,
   "id": "patent-diploma",
   "metadata": {},
   "outputs": [],
   "source": [
    "from flux_class_vecs import flux_cone\n",
    "import numpy as np"
   ]
  },
  {
   "cell_type": "markdown",
   "id": "acknowledged-material",
   "metadata": {},
   "source": [
    "Now we can create our model as an instance of the flux_cone class by initiating it from an sbml file:"
   ]
  },
  {
   "cell_type": "code",
   "execution_count": 2,
   "id": "cross-sunset",
   "metadata": {},
   "outputs": [
    {
     "name": "stderr",
     "output_type": "stream",
     "text": [
      "No objective coefficients in model. Unclear what should be optimized\n"
     ]
    }
   ],
   "source": [
    "model1 = flux_cone.from_sbml(\"./Biomodels/bigg_pointed/iCN900.xml\")\n",
    "model2 = flux_cone.from_sbml(\"./Biomodels/bigg_pointed/iEK1008.xml\")\n",
    "model3 = flux_cone.from_sbml(\"./Biomodels/bigg_pointed/iJB785.xml\")\n",
    "model4 = flux_cone.from_sbml(\"./Biomodels/bigg_pointed/iJN678.xml\")\n",
    "model5 = flux_cone.from_sbml(\"./Biomodels/bigg_pointed/iSB619.xml\")\n",
    "model6 = flux_cone.from_sbml(\"./Biomodels/bigg_pointed/iSynCJ816.xml\")\n",
    "\n",
    "models = [model1,model2,model3,model4,model5,model6]\n",
    "\n",
    "\n"
   ]
  },
  {
   "cell_type": "code",
   "execution_count": 3,
   "id": "exterior-lesbian",
   "metadata": {},
   "outputs": [
    {
     "name": "stdout",
     "output_type": "stream",
     "text": [
      "0\n",
      "0\n",
      "0\n",
      "0\n",
      "0\n",
      "0\n"
     ]
    }
   ],
   "source": [
    "for model in models:\n",
    "    print(model.get_lin_dim())"
   ]
  },
  {
   "cell_type": "code",
   "execution_count": 4,
   "id": "assumed-blame",
   "metadata": {},
   "outputs": [
    {
     "name": "stdout",
     "output_type": "stream",
     "text": [
      "(885, 1229)\n",
      "(998, 1226)\n",
      "(768, 849)\n",
      "(795, 863)\n",
      "(655, 743)\n",
      "(928, 1044)\n"
     ]
    }
   ],
   "source": [
    "for model in models:\n",
    "    print(np.shape(model.stoich))"
   ]
  },
  {
   "cell_type": "code",
   "execution_count": null,
   "id": "atlantic-halifax",
   "metadata": {},
   "outputs": [],
   "source": [
    "model5.get_mmbs()"
   ]
  },
  {
   "cell_type": "code",
   "execution_count": null,
   "id": "burning-tennis",
   "metadata": {},
   "outputs": [],
   "source": []
  }
 ],
 "metadata": {
  "kernelspec": {
   "display_name": "Python 3",
   "language": "python",
   "name": "python3"
  },
  "language_info": {
   "codemirror_mode": {
    "name": "ipython",
    "version": 3
   },
   "file_extension": ".py",
   "mimetype": "text/x-python",
   "name": "python",
   "nbconvert_exporter": "python",
   "pygments_lexer": "ipython3",
   "version": "3.8.8"
  }
 },
 "nbformat": 4,
 "nbformat_minor": 5
}
