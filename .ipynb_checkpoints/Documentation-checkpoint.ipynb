{
 "cells": [
  {
   "cell_type": "markdown",
   "id": "special-blood",
   "metadata": {},
   "source": [
    "# How to use the flux_cone class:\n",
    "\n",
    "First we need to import the `flux_cone` class from flux_class:"
   ]
  },
  {
   "cell_type": "code",
   "execution_count": 1,
   "id": "patent-diploma",
   "metadata": {},
   "outputs": [],
   "source": [
    "from flux_class import flux_cone\n"
   ]
  },
  {
   "cell_type": "markdown",
   "id": "sensitive-horizon",
   "metadata": {},
   "source": [
    "Now we can create our model as an instance of the flux_cone class by initiating it from an sbml file:"
   ]
  },
  {
   "cell_type": "code",
   "execution_count": 3,
   "id": "cross-sunset",
   "metadata": {},
   "outputs": [],
   "source": [
    "model = flux_cone.from_sbml(\"./Biomodels/bigg/iAB_RBC_283.xml\")"
   ]
  },
  {
   "cell_type": "markdown",
   "id": "available-cologne",
   "metadata": {},
   "source": [
    "Let us first determine the dimension of the reversible metabolic space by calling the class function `get_lin_dim`"
   ]
  },
  {
   "cell_type": "code",
   "execution_count": 4,
   "id": "natural-stake",
   "metadata": {},
   "outputs": [
    {
     "data": {
      "text/plain": [
       "2"
      ]
     },
     "execution_count": 4,
     "metadata": {},
     "output_type": "execute_result"
    }
   ],
   "source": [
    "model.get_lin_dim()"
   ]
  },
  {
   "cell_type": "markdown",
   "id": "aquatic-terrain",
   "metadata": {},
   "source": [
    "As we can see, the dimension of the reversible metabolic space is 2. This value is now saved as the paramer `lin_dim` of our class instance model:"
   ]
  },
  {
   "cell_type": "code",
   "execution_count": 6,
   "id": "careful-polish",
   "metadata": {},
   "outputs": [
    {
     "name": "stdout",
     "output_type": "stream",
     "text": [
      "2\n"
     ]
    }
   ],
   "source": [
    "print(model.lin_dim)"
   ]
  },
  {
   "cell_type": "markdown",
   "id": "innocent-allowance",
   "metadata": {},
   "source": [
    "To determine the number of minimal proper faces of the flux cone we call the class function `get_mmbs` which determines the minimal metabolic behaviors of the network. The number of MMBs is equal to the number of minimal proper faces."
   ]
  },
  {
   "cell_type": "code",
   "execution_count": 8,
   "id": "considerable-leisure",
   "metadata": {},
   "outputs": [
    {
     "name": "stdout",
     "output_type": "stream",
     "text": [
      "587\n"
     ]
    }
   ],
   "source": [
    "model.get_mmbs()\n",
    "print(len(model.mmbs))"
   ]
  },
  {
   "cell_type": "markdown",
   "id": "surprised-destruction",
   "metadata": {},
   "source": []
  }
 ],
 "metadata": {
  "kernelspec": {
   "display_name": "Python 3",
   "language": "python",
   "name": "python3"
  },
  "language_info": {
   "codemirror_mode": {
    "name": "ipython",
    "version": 3
   },
   "file_extension": ".py",
   "mimetype": "text/x-python",
   "name": "python",
   "nbconvert_exporter": "python",
   "pygments_lexer": "ipython3",
   "version": "3.8.8"
  }
 },
 "nbformat": 4,
 "nbformat_minor": 5
}
