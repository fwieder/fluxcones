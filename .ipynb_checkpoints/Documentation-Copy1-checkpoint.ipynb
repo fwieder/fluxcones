{
 "cells": [
  {
   "cell_type": "markdown",
   "id": "special-blood",
   "metadata": {},
   "source": [
    "# How to use the flux_cone class:\n",
    "\n",
    "First we need to import the `flux_cone` class from flux_class:"
   ]
  },
  {
   "cell_type": "code",
   "execution_count": 1,
   "id": "patent-diploma",
   "metadata": {},
   "outputs": [],
   "source": [
    "from flux_class import flux_cone\n"
   ]
  },
  {
   "cell_type": "markdown",
   "id": "acknowledged-material",
   "metadata": {},
   "source": [
    "Now we can create our model as an instance of the flux_cone class by initiating it from an sbml file:"
   ]
  },
  {
   "cell_type": "code",
   "execution_count": 2,
   "id": "cross-sunset",
   "metadata": {},
   "outputs": [],
   "source": [
    "model = flux_cone.from_sbml(\"./Biomodels/bigg/iAB_RBC_283.xml\")"
   ]
  },
  {
   "cell_type": "markdown",
   "id": "realistic-paper",
   "metadata": {},
   "source": [
    "Let us first determine the dimension of the reversible metabolic space by calling the class function `get_lin_dim`"
   ]
  },
  {
   "cell_type": "code",
   "execution_count": 3,
   "id": "historical-module",
   "metadata": {},
   "outputs": [
    {
     "data": {
      "text/plain": [
       "2"
      ]
     },
     "execution_count": 3,
     "metadata": {},
     "output_type": "execute_result"
    }
   ],
   "source": [
    "model.get_lin_dim()"
   ]
  },
  {
   "cell_type": "markdown",
   "id": "lined-energy",
   "metadata": {},
   "source": [
    "As we can see, the dimension of the reversible metabolic space is 2. This value is now saved as the paramer `lin_dim` of our class instance model:"
   ]
  },
  {
   "cell_type": "code",
   "execution_count": 4,
   "id": "healthy-stadium",
   "metadata": {},
   "outputs": [
    {
     "name": "stdout",
     "output_type": "stream",
     "text": [
      "2\n"
     ]
    }
   ],
   "source": [
    "print(model.lin_dim)"
   ]
  },
  {
   "cell_type": "markdown",
   "id": "shared-audit",
   "metadata": {},
   "source": [
    "To determine the number of minimal proper faces of the flux cone we call the class function `get_mmbs` which determines the minimal metabolic behaviors of the network. The number of MMBs is equal to the number of minimal proper faces."
   ]
  },
  {
   "cell_type": "code",
   "execution_count": 5,
   "id": "pleased-guidance",
   "metadata": {},
   "outputs": [
    {
     "name": "stdout",
     "output_type": "stream",
     "text": [
      "587\n"
     ]
    }
   ],
   "source": [
    "model.get_mmbs()\n",
    "print(len(model.mmbs))"
   ]
  },
  {
   "cell_type": "markdown",
   "id": "coral-origin",
   "metadata": {},
   "source": [
    "The fluxcone of the red blood cell has 587 minimal proper faces. Now we can compute the efms in each of the minimal proper faces by calling the function `get_efms_in_mmbs`. This will take a couple of minutes.\n"
   ]
  },
  {
   "cell_type": "code",
   "execution_count": null,
   "id": "swedish-medicaid",
   "metadata": {},
   "outputs": [
    {
     "name": "stderr",
     "output_type": "stream",
     "text": [
      " 12%|█▏        | 68/587 [01:27<11:01,  1.27s/it]"
     ]
    }
   ],
   "source": [
    "model.get_efms_in_mmbs()\n",
    "print([len(model.mmb_efms[i]) for i in range(len(model.mmb_efms))])"
   ]
  },
  {
   "cell_type": "markdown",
   "id": "intense-moscow",
   "metadata": {},
   "source": [
    "Furthermore we can compute all fully reversible EFMs by calling the function `get_frev_efms`:"
   ]
  },
  {
   "cell_type": "code",
   "execution_count": null,
   "id": "analyzed-stewart",
   "metadata": {},
   "outputs": [],
   "source": [
    "model.get_frev_efms()"
   ]
  },
  {
   "cell_type": "code",
   "execution_count": null,
   "id": "systematic-department",
   "metadata": {},
   "outputs": [],
   "source": [
    "sum(len(model.mmb_efms[i]) for i in range(len(model.mmb_efms)))"
   ]
  },
  {
   "cell_type": "markdown",
   "id": "numerical-acrobat",
   "metadata": {},
   "source": [
    "There are a total of 1207 EFMs in the minimal proper faces distributed as seen above and 2 fully reversible EFMs. With this we can compute the total amount of MEMos of the network:"
   ]
  },
  {
   "cell_type": "code",
   "execution_count": null,
   "id": "homeless-battlefield",
   "metadata": {},
   "outputs": [],
   "source": [
    "num = 1\n",
    "for i in [len(model.mmb_efms[i]) for i in range(len(model.mmb_efms))]:\n",
    "    num*=i"
   ]
  },
  {
   "cell_type": "code",
   "execution_count": null,
   "id": "divine-smooth",
   "metadata": {},
   "outputs": [],
   "source": [
    "print(format(num*2,'e'))\n"
   ]
  },
  {
   "cell_type": "code",
   "execution_count": null,
   "id": "norman-gregory",
   "metadata": {},
   "outputs": [],
   "source": []
  }
 ],
 "metadata": {
  "kernelspec": {
   "display_name": "Python 3",
   "language": "python",
   "name": "python3"
  },
  "language_info": {
   "codemirror_mode": {
    "name": "ipython",
    "version": 3
   },
   "file_extension": ".py",
   "mimetype": "text/x-python",
   "name": "python",
   "nbconvert_exporter": "python",
   "pygments_lexer": "ipython3",
   "version": "3.8.8"
  }
 },
 "nbformat": 4,
 "nbformat_minor": 5
}
