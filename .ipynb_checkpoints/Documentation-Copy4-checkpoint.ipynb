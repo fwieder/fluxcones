{
 "cells": [
  {
   "cell_type": "markdown",
   "id": "special-blood",
   "metadata": {},
   "source": [
    "# How to use the flux_cone class:\n",
    "\n",
    "First we need to import the `flux_cone` class from flux_class:"
   ]
  },
  {
   "cell_type": "code",
   "execution_count": 1,
   "id": "patent-diploma",
   "metadata": {},
   "outputs": [],
   "source": [
    "from flux_class_vecs import flux_cone\n"
   ]
  },
  {
   "cell_type": "markdown",
   "id": "acknowledged-material",
   "metadata": {},
   "source": [
    "Now we can create our model as an instance of the flux_cone class by initiating it from an sbml file:"
   ]
  },
  {
   "cell_type": "code",
   "execution_count": 2,
   "id": "cross-sunset",
   "metadata": {},
   "outputs": [],
   "source": [
    "model = flux_cone.from_sbml(\"./Biomodels/bigg/iAB_RBC_283.xml\")"
   ]
  },
  {
   "cell_type": "markdown",
   "id": "realistic-paper",
   "metadata": {},
   "source": [
    "Let us first determine the dimension of the reversible metabolic space by calling the class function `get_lin_dim`"
   ]
  },
  {
   "cell_type": "code",
   "execution_count": 3,
   "id": "historical-module",
   "metadata": {},
   "outputs": [
    {
     "data": {
      "text/plain": [
       "2"
      ]
     },
     "execution_count": 3,
     "metadata": {},
     "output_type": "execute_result"
    }
   ],
   "source": [
    "model.get_lin_dim()"
   ]
  },
  {
   "cell_type": "markdown",
   "id": "lined-energy",
   "metadata": {},
   "source": [
    "As we can see, the dimension of the reversible metabolic space is 2. This value is now saved as the paramer `lin_dim` of our class instance model:"
   ]
  },
  {
   "cell_type": "code",
   "execution_count": 4,
   "id": "healthy-stadium",
   "metadata": {},
   "outputs": [
    {
     "name": "stdout",
     "output_type": "stream",
     "text": [
      "2\n"
     ]
    }
   ],
   "source": [
    "print(model.lin_dim)"
   ]
  },
  {
   "cell_type": "markdown",
   "id": "shared-audit",
   "metadata": {},
   "source": [
    "To determine the number of minimal proper faces of the flux cone we call the class function `get_mmbs` which determines the minimal metabolic behaviors of the network. The number of MMBs is equal to the number of minimal proper faces."
   ]
  },
  {
   "cell_type": "code",
   "execution_count": 5,
   "id": "pleased-guidance",
   "metadata": {},
   "outputs": [
    {
     "name": "stdout",
     "output_type": "stream",
     "text": [
      "587\n"
     ]
    }
   ],
   "source": [
    "model.get_mmbs()\n",
    "print(len(model.mmbs))"
   ]
  },
  {
   "cell_type": "markdown",
   "id": "coral-origin",
   "metadata": {},
   "source": [
    "The fluxcone of the red blood cell has 587 minimal proper faces. Now we can compute the efms in each of the minimal proper faces by calling the function `get_efms_in_mmbs`. This will take a couple of minutes.\n"
   ]
  },
  {
   "cell_type": "code",
   "execution_count": 6,
   "id": "swedish-medicaid",
   "metadata": {},
   "outputs": [
    {
     "name": "stderr",
     "output_type": "stream",
     "text": [
      "100%|██████████| 587/587 [13:48<00:00,  1.41s/it]\n"
     ]
    },
    {
     "name": "stdout",
     "output_type": "stream",
     "text": [
      "[2, 2, 2, 2, 2, 2, 2, 2, 2, 2, 2, 2, 2, 2, 2, 2, 2, 2, 2, 2, 2, 2, 2, 2, 2, 2, 2, 2, 2, 2, 2, 2, 2, 2, 2, 2, 2, 2, 3, 3, 3, 3, 2, 2, 2, 2, 2, 2, 2, 2, 2, 2, 2, 2, 2, 2, 2, 2, 2, 2, 2, 2, 2, 2, 2, 2, 2, 2, 2, 2, 2, 2, 2, 2, 2, 2, 2, 2, 2, 2, 2, 2, 2, 2, 3, 3, 3, 3, 2, 2, 2, 2, 2, 2, 2, 2, 2, 2, 3, 3, 2, 2, 2, 2, 2, 3, 3, 2, 2, 2, 2, 2, 1, 2, 2, 2, 2, 2, 2, 2, 2, 2, 2, 2, 2, 2, 2, 2, 2, 2, 2, 2, 2, 2, 2, 2, 2, 2, 2, 2, 2, 2, 2, 2, 2, 2, 2, 2, 2, 2, 2, 2, 2, 2, 2, 2, 2, 2, 2, 2, 2, 2, 2, 2, 2, 2, 2, 2, 2, 2, 2, 2, 2, 2, 2, 2, 2, 2, 2, 2, 2, 2, 2, 2, 2, 2, 2, 2, 2, 2, 2, 2, 2, 2, 2, 2, 2, 2, 2, 2, 2, 2, 2, 2, 2, 2, 2, 2, 2, 2, 2, 2, 2, 2, 2, 2, 2, 2, 2, 2, 2, 2, 2, 2, 2, 2, 2, 2, 2, 2, 2, 2, 2, 2, 2, 2, 2, 2, 2, 2, 2, 2, 2, 2, 2, 2, 2, 2, 2, 2, 2, 2, 2, 2, 2, 2, 2, 2, 2, 2, 2, 2, 2, 2, 2, 2, 2, 2, 2, 2, 2, 2, 2, 2, 2, 2, 2, 2, 2, 2, 2, 2, 2, 2, 2, 2, 2, 2, 2, 2, 2, 2, 2, 2, 2, 2, 2, 2, 2, 2, 2, 2, 2, 2, 2, 2, 2, 2, 2, 2, 2, 2, 2, 2, 2, 2, 2, 2, 2, 2, 2, 2, 2, 2, 2, 2, 2, 2, 2, 2, 2, 2, 2, 2, 2, 2, 2, 2, 2, 2, 2, 2, 2, 2, 2, 2, 2, 2, 2, 3, 3, 2, 2, 2, 2, 3, 2, 2, 2, 2, 2, 2, 2, 2, 2, 2, 2, 2, 2, 2, 2, 2, 2, 2, 2, 2, 2, 2, 2, 2, 2, 2, 2, 2, 2, 2, 2, 2, 2, 2, 2, 2, 2, 2, 2, 2, 2, 2, 2, 2, 2, 2, 2, 2, 2, 2, 2, 2, 2, 2, 2, 2, 2, 2, 2, 2, 2, 2, 2, 2, 6, 6, 6, 6, 2, 2, 2, 2, 2, 2, 2, 2, 2, 2, 2, 2, 2, 2, 2, 2, 2, 2, 2, 2, 2, 2, 2, 2, 2, 2, 2, 2, 2, 2, 2, 2, 2, 2, 2, 2, 2, 2, 2, 2, 2, 2, 2, 2, 2, 2, 2, 2, 2, 2, 2, 2, 2, 2, 2, 2, 2, 2, 2, 2, 2, 2, 2, 2, 2, 2, 2, 2, 2, 2, 2, 2, 2, 2, 2, 2, 2, 2, 2, 2, 2, 2, 2, 2, 2, 2, 2, 2, 2, 2, 2, 2, 2, 2, 2, 2, 2, 2, 2, 2, 2, 2, 2, 2, 2, 2, 2, 2, 2, 2, 2, 2, 2, 2, 2, 2, 2, 2, 2, 2, 2, 2, 2, 2, 2, 2, 2, 2, 2, 2, 2, 2, 2, 2, 2, 2, 2, 2, 2, 2, 2, 2, 4, 4, 2, 2, 2, 2, 2, 2, 2, 2, 2, 2, 2, 2, 2, 2, 2, 3, 1, 1, 2]\n"
     ]
    }
   ],
   "source": [
    "model.get_efvs_in_mmbs()\n",
    "print([len(model.mmb_efvs[i]) for i in range(len(model.mmb_efvs))])"
   ]
  },
  {
   "cell_type": "markdown",
   "id": "intense-moscow",
   "metadata": {},
   "source": [
    "Furthermore we can compute all fully reversible EFMs by calling the function `get_frev_efms`:"
   ]
  },
  {
   "cell_type": "code",
   "execution_count": 7,
   "id": "analyzed-stewart",
   "metadata": {},
   "outputs": [
    {
     "data": {
      "text/plain": [
       "[]"
      ]
     },
     "execution_count": 7,
     "metadata": {},
     "output_type": "execute_result"
    }
   ],
   "source": [
    "model.get_frev_efvs()"
   ]
  },
  {
   "cell_type": "code",
   "execution_count": 8,
   "id": "systematic-department",
   "metadata": {},
   "outputs": [
    {
     "data": {
      "text/plain": [
       "1207"
      ]
     },
     "execution_count": 8,
     "metadata": {},
     "output_type": "execute_result"
    }
   ],
   "source": [
    "sum(len(model.mmb_efvs[i]) for i in range(len(model.mmb_efvs)))"
   ]
  },
  {
   "cell_type": "markdown",
   "id": "numerical-acrobat",
   "metadata": {},
   "source": [
    "There are a total of 1207 EFMs in the minimal proper faces distributed as seen above and 2 fully reversible EFMs. With this we can compute the total amount of MEMos of the network:"
   ]
  },
  {
   "cell_type": "code",
   "execution_count": 9,
   "id": "homeless-battlefield",
   "metadata": {},
   "outputs": [],
   "source": [
    "num = 1\n",
    "for i in [len(model.mmb_efvs[i]) for i in range(len(model.mmb_efvs))]:\n",
    "    num*=i"
   ]
  },
  {
   "cell_type": "code",
   "execution_count": 10,
   "id": "divine-smooth",
   "metadata": {},
   "outputs": [
    {
     "name": "stdout",
     "output_type": "stream",
     "text": [
      "2.694962e+181\n"
     ]
    }
   ],
   "source": [
    "print(format(num*2,'e'))\n"
   ]
  },
  {
   "cell_type": "code",
   "execution_count": 16,
   "id": "norman-gregory",
   "metadata": {},
   "outputs": [],
   "source": [
    "import numpy as np\n",
    "gens = []\n",
    "for mmb in model.mmb_efvs:\n",
    "    for efv in mmb:\n",
    "        gens.append(efv)"
   ]
  },
  {
   "cell_type": "code",
   "execution_count": 18,
   "id": "convenient-florist",
   "metadata": {},
   "outputs": [
    {
     "name": "stdout",
     "output_type": "stream",
     "text": [
      "1207\n"
     ]
    }
   ],
   "source": [
    "print(len(gens))\n"
   ]
  },
  {
   "cell_type": "code",
   "execution_count": 19,
   "id": "successful-friendship",
   "metadata": {},
   "outputs": [],
   "source": [
    "mem = np.array(gens)"
   ]
  },
  {
   "cell_type": "code",
   "execution_count": 20,
   "id": "graduate-beaver",
   "metadata": {},
   "outputs": [
    {
     "data": {
      "text/plain": [
       "(1207, 469)"
      ]
     },
     "execution_count": 20,
     "metadata": {},
     "output_type": "execute_result"
    }
   ],
   "source": [
    "np.shape(mem)"
   ]
  },
  {
   "cell_type": "code",
   "execution_count": 21,
   "id": "regulated-yahoo",
   "metadata": {},
   "outputs": [
    {
     "data": {
      "text/plain": [
       "98"
      ]
     },
     "execution_count": 21,
     "metadata": {},
     "output_type": "execute_result"
    }
   ],
   "source": [
    "np.linalg.matrix_rank(mem)"
   ]
  },
  {
   "cell_type": "code",
   "execution_count": 22,
   "id": "supreme-spouse",
   "metadata": {},
   "outputs": [
    {
     "data": {
      "text/plain": [
       "(342, 469)"
      ]
     },
     "execution_count": 22,
     "metadata": {},
     "output_type": "execute_result"
    }
   ],
   "source": [
    "np.shape(model.stoich)"
   ]
  },
  {
   "cell_type": "code",
   "execution_count": 23,
   "id": "infrared-kingston",
   "metadata": {},
   "outputs": [
    {
     "data": {
      "text/plain": [
       "339"
      ]
     },
     "execution_count": 23,
     "metadata": {},
     "output_type": "execute_result"
    }
   ],
   "source": [
    "np.linalg.matrix_rank(model.stoich)"
   ]
  },
  {
   "cell_type": "code",
   "execution_count": null,
   "id": "binary-employer",
   "metadata": {},
   "outputs": [],
   "source": []
  }
 ],
 "metadata": {
  "kernelspec": {
   "display_name": "Python 3",
   "language": "python",
   "name": "python3"
  },
  "language_info": {
   "codemirror_mode": {
    "name": "ipython",
    "version": 3
   },
   "file_extension": ".py",
   "mimetype": "text/x-python",
   "name": "python",
   "nbconvert_exporter": "python",
   "pygments_lexer": "ipython3",
   "version": "3.8.8"
  }
 },
 "nbformat": 4,
 "nbformat_minor": 5
}
