{
 "cells": [
  {
   "cell_type": "code",
   "execution_count": 1,
   "id": "patent-diploma",
   "metadata": {},
   "outputs": [],
   "source": [
    "from flux_class_vecs import flux_cone\n",
    "import numpy as np"
   ]
  },
  {
   "cell_type": "code",
   "execution_count": 3,
   "id": "cross-sunset",
   "metadata": {
    "scrolled": true
   },
   "outputs": [
    {
     "name": "stderr",
     "output_type": "stream",
     "text": [
      "Model does not contain SBML fbc package information.\n",
      "SBML package 'layout' not supported by cobrapy, information is not parsed\n",
      "SBML package 'render' not supported by cobrapy, information is not parsed\n",
      "Missing lower flux bound set to '-1000.0' for  reaction: '<Reaction Susceptible_to_Infected \"Susceptible_to_Infected\">'\n",
      "Missing upper flux bound set to '1000.0' for  reaction: '<Reaction Susceptible_to_Infected \"Susceptible_to_Infected\">'\n",
      "Missing lower flux bound set to '-1000.0' for  reaction: '<Reaction Infected_to_Diagnosed \"Infected_to_Diagnosed\">'\n",
      "Missing upper flux bound set to '1000.0' for  reaction: '<Reaction Infected_to_Diagnosed \"Infected_to_Diagnosed\">'\n",
      "Missing lower flux bound set to '-1000.0' for  reaction: '<Reaction Infected_to_Ailing \"Infected_to_Ailing\">'\n",
      "Missing upper flux bound set to '1000.0' for  reaction: '<Reaction Infected_to_Ailing \"Infected_to_Ailing\">'\n",
      "Missing lower flux bound set to '-1000.0' for  reaction: '<Reaction Infected_to_Healed \"Infected_to_Healed\">'\n",
      "Missing upper flux bound set to '1000.0' for  reaction: '<Reaction Infected_to_Healed \"Infected_to_Healed\">'\n",
      "Missing lower flux bound set to '-1000.0' for  reaction: '<Reaction Diagnosed_to_Recognized \"Diagnosed_to_Recognized\">'\n",
      "Missing upper flux bound set to '1000.0' for  reaction: '<Reaction Diagnosed_to_Recognized \"Diagnosed_to_Recognized\">'\n",
      "Missing lower flux bound set to '-1000.0' for  reaction: '<Reaction Diagnosed_to_Healed \"Diagnosed_to_Healed\">'\n",
      "Missing upper flux bound set to '1000.0' for  reaction: '<Reaction Diagnosed_to_Healed \"Diagnosed_to_Healed\">'\n",
      "Missing lower flux bound set to '-1000.0' for  reaction: '<Reaction Ailing_to_Recognised \"Ailing_to_Recognised\">'\n",
      "Missing upper flux bound set to '1000.0' for  reaction: '<Reaction Ailing_to_Recognised \"Ailing_to_Recognised\">'\n",
      "Missing lower flux bound set to '-1000.0' for  reaction: '<Reaction Ailing_to_Healed \"Ailing_to_Healed\">'\n",
      "Missing upper flux bound set to '1000.0' for  reaction: '<Reaction Ailing_to_Healed \"Ailing_to_Healed\">'\n",
      "Missing lower flux bound set to '-1000.0' for  reaction: '<Reaction Ailing_to_Threatened \"Ailing_to_Threatened\">'\n",
      "Missing upper flux bound set to '1000.0' for  reaction: '<Reaction Ailing_to_Threatened \"Ailing_to_Threatened\">'\n",
      "Missing lower flux bound set to '-1000.0' for  reaction: '<Reaction Recognised_to_Threatened \"Recognised_to_Threatened\">'\n",
      "Missing upper flux bound set to '1000.0' for  reaction: '<Reaction Recognised_to_Threatened \"Recognised_to_Threatened\">'\n",
      "Missing lower flux bound set to '-1000.0' for  reaction: '<Reaction Recognised_to_Healed \"Recognised_to_Healed\">'\n",
      "Missing upper flux bound set to '1000.0' for  reaction: '<Reaction Recognised_to_Healed \"Recognised_to_Healed\">'\n",
      "Missing lower flux bound set to '-1000.0' for  reaction: '<Reaction Threatened_to_Extinct \"Threatened_to_Extinct\">'\n",
      "Missing upper flux bound set to '1000.0' for  reaction: '<Reaction Threatened_to_Extinct \"Threatened_to_Extinct\">'\n",
      "Missing lower flux bound set to '-1000.0' for  reaction: '<Reaction Threatened_to_Healed \"Threatened_to_Healed\">'\n",
      "Missing upper flux bound set to '1000.0' for  reaction: '<Reaction Threatened_to_Healed \"Threatened_to_Healed\">'\n",
      "No objective coefficients in model. Unclear what should be optimized\n",
      "Missing flux bounds on reactions set to default bounds.As best practise and to avoid confusion flux bounds should be set explicitly on all reactions.\n"
     ]
    }
   ],
   "source": [
    "model = flux_cone.from_sbml(\"./Biomodels/Giordano2020.xml\")\n",
    "   \n",
    "\n"
   ]
  },
  {
   "cell_type": "code",
   "execution_count": 4,
   "id": "5b3f613e",
   "metadata": {},
   "outputs": [
    {
     "name": "stdout",
     "output_type": "stream",
     "text": [
      "Giordano2020 - SIDARTHE model of COVID-19 spread in Italy\n"
     ]
    }
   ],
   "source": [
    "print(model.name)"
   ]
  },
  {
   "cell_type": "code",
   "execution_count": 5,
   "id": "915e859a",
   "metadata": {},
   "outputs": [
    {
     "name": "stdout",
     "output_type": "stream",
     "text": [
      "(8, 13)\n"
     ]
    }
   ],
   "source": [
    "print(np.shape(model.stoich))"
   ]
  },
  {
   "cell_type": "code",
   "execution_count": 6,
   "id": "ee6f6ca1",
   "metadata": {},
   "outputs": [
    {
     "data": {
      "text/plain": [
       "6"
      ]
     },
     "execution_count": 6,
     "metadata": {},
     "output_type": "execute_result"
    }
   ],
   "source": [
    "model.get_lin_dim()"
   ]
  },
  {
   "cell_type": "code",
   "execution_count": 7,
   "id": "cfd1d7f6",
   "metadata": {},
   "outputs": [
    {
     "data": {
      "text/plain": [
       "[]"
      ]
     },
     "execution_count": 7,
     "metadata": {},
     "output_type": "execute_result"
    }
   ],
   "source": [
    "model.get_mmbs()"
   ]
  },
  {
   "cell_type": "code",
   "execution_count": 8,
   "id": "b8862fdb",
   "metadata": {},
   "outputs": [
    {
     "data": {
      "text/plain": [
       "array([[ 0.,  1.,  0., -1.,  0.,  1.,  0.,  0.,  0.,  0.,  0.,  0.,  0.],\n",
       "       [ 0.,  1.,  0., -1.,  1.,  0.,  0.,  0.,  0.,  0.,  1.,  0.,  0.],\n",
       "       [ 0.,  1.,  0., -1.,  1.,  0.,  0.,  0.,  0.,  1.,  0.,  0.,  1.],\n",
       "       [ 0.,  1., -1.,  0.,  1.,  0.,  0.,  0., -1.,  1.,  0.,  0.,  0.],\n",
       "       [ 0.,  1.,  0., -1.,  1.,  0.,  0.,  1., -1.,  1.,  0.,  0.,  0.],\n",
       "       [ 0.,  1., -1.,  0.,  1.,  0., -1.,  0.,  0.,  0.,  0.,  0.,  0.],\n",
       "       [ 0.,  1.,  0., -1.,  1.,  0., -1.,  1.,  0.,  0.,  0.,  0.,  0.],\n",
       "       [ 0.,  1.,  0., -1.,  1.,  0., -1.,  0.,  1.,  0.,  0.,  0.,  1.],\n",
       "       [ 0.,  1., -1.,  0.,  0.,  1.,  0., -1.,  0.,  0.,  0.,  0.,  0.],\n",
       "       [ 0.,  1., -1.,  0.,  0.,  1.,  0.,  0., -1.,  0.,  0.,  0., -1.],\n",
       "       [ 0.,  1., -1.,  0.,  0.,  1., -1.,  0.,  0.,  0., -1.,  0.,  0.],\n",
       "       [ 0.,  1., -1.,  0.,  0.,  1.,  0.,  0., -1.,  1., -1.,  0.,  0.],\n",
       "       [ 0.,  1., -1.,  0.,  0.,  1., -1.,  0.,  0., -1.,  0.,  0., -1.],\n",
       "       [ 0.,  1., -1.,  0.,  1.,  0.,  0., -1.,  0.,  0.,  1.,  0.,  0.],\n",
       "       [ 0.,  1., -1.,  0.,  1.,  0.,  0.,  0., -1.,  0.,  1.,  0., -1.],\n",
       "       [ 0.,  1., -1.,  0.,  1.,  0.,  0., -1.,  0.,  1.,  0.,  0.,  1.],\n",
       "       [ 0., -1.,  1.,  0.,  0., -1.,  0.,  0.,  1., -1.,  1.,  0.,  0.],\n",
       "       [ 0., -1.,  1.,  0.,  0., -1.,  1.,  0.,  0.,  1.,  0.,  0.,  1.],\n",
       "       [ 0., -1.,  1.,  0.,  0., -1.,  1.,  0.,  0.,  0.,  1.,  0.,  0.],\n",
       "       [ 0., -1.,  1.,  0., -1.,  0.,  0.,  0.,  1.,  0., -1.,  0.,  1.],\n",
       "       [ 0., -1.,  1.,  0.,  0., -1.,  0.,  0.,  1.,  0.,  0.,  0.,  1.],\n",
       "       [ 0., -1.,  1.,  0., -1.,  0.,  0.,  1.,  0., -1.,  0.,  0., -1.],\n",
       "       [ 0., -1.,  1.,  0., -1.,  0.,  0.,  1.,  0.,  0., -1.,  0.,  0.],\n",
       "       [ 0., -1.,  1.,  0.,  0., -1.,  0.,  1.,  0.,  0.,  0.,  0.,  0.],\n",
       "       [ 0.,  0.,  1., -1., -1.,  1.,  0.,  0.,  1., -1.,  0.,  0.,  0.],\n",
       "       [ 0., -1.,  1.,  0., -1.,  0.,  0.,  0.,  1., -1.,  0.,  0.,  0.],\n",
       "       [ 0.,  0.,  1., -1., -1.,  1.,  1.,  0.,  0.,  0.,  0.,  0.,  0.],\n",
       "       [ 0., -1.,  1.,  0., -1.,  0.,  1.,  0.,  0.,  0.,  0.,  0.,  0.],\n",
       "       [ 0., -1.,  0.,  1., -1.,  0.,  1.,  0., -1.,  0.,  0.,  0., -1.],\n",
       "       [ 0., -1.,  0.,  1., -1.,  0.,  0., -1.,  1., -1.,  0.,  0.,  0.],\n",
       "       [ 0., -1.,  0.,  1., -1.,  0.,  1., -1.,  0.,  0.,  0.,  0.,  0.],\n",
       "       [ 0.,  0., -1.,  1.,  1., -1., -1.,  0.,  0.,  0.,  0.,  0.,  0.],\n",
       "       [ 0.,  0., -1.,  1.,  1., -1.,  0.,  0., -1.,  1.,  0.,  0.,  0.],\n",
       "       [ 0., -1.,  0.,  1.,  0., -1.,  0.,  0.,  0.,  0.,  0.,  0.,  0.],\n",
       "       [ 0., -1.,  0.,  1., -1.,  0.,  0.,  0.,  0.,  0., -1.,  0.,  0.],\n",
       "       [ 0., -1.,  0.,  1., -1.,  0.,  0.,  0.,  0., -1.,  0.,  0., -1.],\n",
       "       [ 0.,  0.,  1., -1.,  0.,  0.,  0.,  1.,  0.,  0.,  0.,  0.,  0.],\n",
       "       [ 0.,  0.,  1., -1.,  0.,  0.,  0.,  0.,  1.,  0.,  0.,  0.,  1.],\n",
       "       [ 0.,  0.,  1., -1.,  0.,  0.,  1.,  0.,  0.,  0.,  1.,  0.,  0.],\n",
       "       [ 0.,  0.,  1., -1.,  0.,  0.,  1.,  0.,  0.,  1.,  0.,  0.,  1.],\n",
       "       [ 0.,  0.,  1., -1.,  0.,  0.,  0.,  0.,  1., -1.,  1.,  0.,  0.],\n",
       "       [ 0.,  0., -1.,  1.,  0.,  0., -1.,  0.,  0., -1.,  0.,  0., -1.],\n",
       "       [ 0.,  0., -1.,  1.,  0.,  0.,  0.,  0., -1.,  1., -1.,  0.,  0.],\n",
       "       [ 0.,  0., -1.,  1.,  0.,  0., -1.,  0.,  0.,  0., -1.,  0.,  0.],\n",
       "       [ 0.,  0., -1.,  1.,  0.,  0.,  0.,  0., -1.,  0.,  0.,  0., -1.],\n",
       "       [ 0.,  0., -1.,  1.,  0.,  0.,  0., -1.,  0.,  0.,  0.,  0.,  0.],\n",
       "       [ 0.,  0.,  0.,  0., -1.,  1.,  1.,  0., -1.,  0.,  0.,  0., -1.],\n",
       "       [ 0.,  0.,  0.,  0., -1.,  1.,  0., -1.,  1., -1.,  0.,  0.,  0.],\n",
       "       [ 0.,  0.,  0.,  0., -1.,  1.,  1., -1.,  0.,  0.,  0.,  0.,  0.],\n",
       "       [ 0.,  0.,  0.,  0.,  1., -1., -1.,  0.,  1.,  0.,  0.,  0.,  1.],\n",
       "       [ 0.,  0.,  0.,  0.,  1., -1., -1.,  1.,  0.,  0.,  0.,  0.,  0.],\n",
       "       [ 0.,  0.,  0.,  0.,  1., -1.,  0.,  1., -1.,  1.,  0.,  0.,  0.],\n",
       "       [ 0.,  0.,  0.,  0.,  1., -1.,  0.,  0.,  0.,  1.,  0.,  0.,  1.],\n",
       "       [ 0.,  0.,  0.,  0.,  1., -1.,  0.,  0.,  0.,  0.,  1.,  0.,  0.],\n",
       "       [ 0.,  0.,  0.,  0.,  0.,  0.,  0., -1.,  1., -1.,  1.,  0.,  0.],\n",
       "       [ 0.,  0.,  0.,  0.,  0.,  0.,  1., -1.,  0.,  1.,  0.,  0.,  1.],\n",
       "       [ 0.,  0.,  0.,  0.,  0.,  0.,  1.,  0., -1.,  0.,  1.,  0., -1.],\n",
       "       [ 0.,  0.,  0.,  0.,  0.,  0.,  1., -1.,  0.,  0.,  1.,  0.,  0.],\n",
       "       [ 0.,  0.,  0.,  0.,  0.,  0., -1.,  0.,  1.,  0., -1.,  0.,  1.],\n",
       "       [ 0.,  0.,  0.,  0.,  0.,  0.,  0., -1.,  1.,  0.,  0.,  0.,  1.],\n",
       "       [ 0.,  0.,  0.,  0., -1.,  1.,  0.,  0.,  0., -1.,  0.,  0., -1.],\n",
       "       [ 0.,  0.,  0.,  0., -1.,  1.,  0.,  0.,  0.,  0., -1.,  0.,  0.],\n",
       "       [ 0.,  0.,  0.,  0.,  0.,  0., -1.,  1.,  0., -1.,  0.,  0., -1.],\n",
       "       [ 0.,  0.,  0.,  0.,  0.,  0.,  0.,  1., -1.,  1., -1.,  0.,  0.],\n",
       "       [ 0.,  0.,  0.,  0.,  0.,  0., -1.,  1.,  0.,  0., -1.,  0.,  0.],\n",
       "       [ 0.,  0.,  0.,  0.,  0.,  0.,  0.,  1., -1.,  0.,  0.,  0., -1.],\n",
       "       [ 0.,  0.,  0.,  0.,  0.,  0., -1.,  0.,  1., -1.,  0.,  0.,  0.],\n",
       "       [ 0.,  0.,  0.,  0.,  0.,  0.,  0.,  0.,  0., -1.,  1.,  0., -1.],\n",
       "       [ 0.,  0.,  0.,  0.,  0.,  0.,  1.,  0., -1.,  1.,  0.,  0.,  0.],\n",
       "       [ 0.,  0.,  0.,  0.,  0.,  0.,  0.,  0.,  0.,  1., -1.,  0.,  1.]])"
      ]
     },
     "execution_count": 8,
     "metadata": {},
     "output_type": "execute_result"
    }
   ],
   "source": [
    "model.get_efvs()"
   ]
  },
  {
   "cell_type": "code",
   "execution_count": 10,
   "id": "5c40d410",
   "metadata": {},
   "outputs": [
    {
     "data": {
      "text/plain": [
       "70"
      ]
     },
     "execution_count": 10,
     "metadata": {},
     "output_type": "execute_result"
    }
   ],
   "source": [
    "len(model.efvs)"
   ]
  },
  {
   "cell_type": "code",
   "execution_count": null,
   "id": "2a94073b",
   "metadata": {},
   "outputs": [],
   "source": []
  }
 ],
 "metadata": {
  "kernelspec": {
   "display_name": "Python 3",
   "language": "python",
   "name": "python3"
  },
  "language_info": {
   "codemirror_mode": {
    "name": "ipython",
    "version": 3
   },
   "file_extension": ".py",
   "mimetype": "text/x-python",
   "name": "python",
   "nbconvert_exporter": "python",
   "pygments_lexer": "ipython3",
   "version": "3.8.8"
  }
 },
 "nbformat": 4,
 "nbformat_minor": 5
}
